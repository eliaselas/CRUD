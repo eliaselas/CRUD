{
  "cells": [
    {
      "cell_type": "markdown",
      "metadata": {
        "id": "view-in-github",
        "colab_type": "text"
      },
      "source": [
        "<a href=\"https://colab.research.google.com/github/eliaselas/CRUD/blob/main/Copia_de_colab_github_demo.ipynb\" target=\"_parent\"><img src=\"https://colab.research.google.com/assets/colab-badge.svg\" alt=\"Open In Colab\"/></a>"
      ]
    },
    {
      "cell_type": "markdown",
      "source": [
        "Cuaderno utilizado para guardar ejercicios utilizando la libreria de python Pandas para el curso de data Analyssis with Python en FreeCodeCamp"
      ],
      "metadata": {
        "id": "54C3DpoWju10"
      }
    },
    {
      "cell_type": "code",
      "source": [
        "import pandas as pd\n",
        "import numpy as np"
      ],
      "metadata": {
        "id": "Zm3SyvyQkD0S"
      },
      "execution_count": null,
      "outputs": []
    },
    {
      "cell_type": "code",
      "source": [
        "g7_pop = pd.Series([34.4,343.34,343.34,342.232,23.4])"
      ],
      "metadata": {
        "id": "pLQKVD7ylNC1"
      },
      "execution_count": null,
      "outputs": []
    },
    {
      "cell_type": "code",
      "source": [
        "g7_pop"
      ],
      "metadata": {
        "colab": {
          "base_uri": "https://localhost:8080/"
        },
        "id": "Fu7oK92LljYd",
        "outputId": "a710e021-fb81-451c-b749-c40e48454ade"
      },
      "execution_count": null,
      "outputs": [
        {
          "output_type": "execute_result",
          "data": {
            "text/plain": [
              "0     34.400\n",
              "1    343.340\n",
              "2    343.340\n",
              "3    342.232\n",
              "4     23.400\n",
              "dtype: float64"
            ]
          },
          "metadata": {},
          "execution_count": 3
        }
      ]
    },
    {
      "cell_type": "code",
      "source": [
        "g7_pop.name = \"G7 population in millons\"\n",
        "g7_pop"
      ],
      "metadata": {
        "colab": {
          "base_uri": "https://localhost:8080/"
        },
        "id": "6Bj9hQL7lr9o",
        "outputId": "901a9b13-c335-4f38-bd63-4b95611e7a24"
      },
      "execution_count": null,
      "outputs": [
        {
          "output_type": "execute_result",
          "data": {
            "text/plain": [
              "0     34.400\n",
              "1    343.340\n",
              "2    343.340\n",
              "3    342.232\n",
              "4     23.400\n",
              "Name: G7 population in millons, dtype: float64"
            ]
          },
          "metadata": {},
          "execution_count": 8
        }
      ]
    },
    {
      "cell_type": "code",
      "source": [
        "g7_pop.dtype"
      ],
      "metadata": {
        "colab": {
          "base_uri": "https://localhost:8080/"
        },
        "id": "t47w-WoGm-X7",
        "outputId": "4f9a0a01-e3f9-4419-b703-cdfe3a62f716"
      },
      "execution_count": null,
      "outputs": [
        {
          "output_type": "execute_result",
          "data": {
            "text/plain": [
              "dtype('float64')"
            ]
          },
          "metadata": {},
          "execution_count": 9
        }
      ]
    },
    {
      "cell_type": "code",
      "source": [
        "g7_pop[1]"
      ],
      "metadata": {
        "colab": {
          "base_uri": "https://localhost:8080/"
        },
        "id": "SboV7gWGnC-u",
        "outputId": "a1151771-1212-402d-e4f3-f0534428bea1"
      },
      "execution_count": null,
      "outputs": [
        {
          "output_type": "execute_result",
          "data": {
            "text/plain": [
              "343.34"
            ]
          },
          "metadata": {},
          "execution_count": 10
        }
      ]
    },
    {
      "cell_type": "code",
      "source": [
        "g7_pop.index = [\"El Salvador\", \"Guatemala\", \"Honduras\", \"Costa Rica\", \"Panama\"]\n",
        "g7_pop"
      ],
      "metadata": {
        "colab": {
          "base_uri": "https://localhost:8080/"
        },
        "id": "X6D8QfjTnKHc",
        "outputId": "a0dbadee-7ac4-494d-a08d-0f339adfeaec"
      },
      "execution_count": null,
      "outputs": [
        {
          "output_type": "execute_result",
          "data": {
            "text/plain": [
              "El Salvador     34.400\n",
              "Guatemala      343.340\n",
              "Honduras       343.340\n",
              "Costa Rica     342.232\n",
              "Panama          23.400\n",
              "Name: G7 population in millons, dtype: float64"
            ]
          },
          "metadata": {},
          "execution_count": 14
        }
      ]
    },
    {
      "cell_type": "code",
      "source": [
        "g7_pop[\"El Salvador\"]"
      ],
      "metadata": {
        "colab": {
          "base_uri": "https://localhost:8080/"
        },
        "id": "1V6H7nyI5QDR",
        "outputId": "e047bda5-9c3f-4b34-8abc-abbb4ff8245a"
      },
      "execution_count": null,
      "outputs": [
        {
          "output_type": "execute_result",
          "data": {
            "text/plain": [
              "34.4"
            ]
          },
          "metadata": {},
          "execution_count": 15
        }
      ]
    },
    {
      "cell_type": "code",
      "source": [
        "g7_pop.iloc[1]"
      ],
      "metadata": {
        "colab": {
          "base_uri": "https://localhost:8080/"
        },
        "id": "XGiVjWtD5ioH",
        "outputId": "264d05d3-d249-4515-f535-a3a372679bc8"
      },
      "execution_count": null,
      "outputs": [
        {
          "output_type": "execute_result",
          "data": {
            "text/plain": [
              "343.34"
            ]
          },
          "metadata": {},
          "execution_count": 17
        }
      ]
    },
    {
      "cell_type": "code",
      "source": [
        "g7_pop[\"El Salvador\":\"Honduras\"]"
      ],
      "metadata": {
        "colab": {
          "base_uri": "https://localhost:8080/"
        },
        "id": "KavezXEf52MS",
        "outputId": "f00b0dca-13d0-4dfc-c9f4-a2727f573e39"
      },
      "execution_count": null,
      "outputs": [
        {
          "output_type": "execute_result",
          "data": {
            "text/plain": [
              "El Salvador     34.40\n",
              "Guatemala      343.34\n",
              "Honduras       343.34\n",
              "Name: G7 population in millons, dtype: float64"
            ]
          },
          "metadata": {},
          "execution_count": 18
        }
      ]
    },
    {
      "cell_type": "markdown",
      "source": [
        "**Condition Selection( boolean arrays)**"
      ],
      "metadata": {
        "id": "WJGee76V6C2W"
      }
    },
    {
      "cell_type": "code",
      "source": [
        "g7_pop[g7_pop > 100]"
      ],
      "metadata": {
        "id": "-0yUHjG26Zat",
        "colab": {
          "base_uri": "https://localhost:8080/"
        },
        "outputId": "89db51f4-9f95-40cb-8ae7-a28bc1d0dc5e"
      },
      "execution_count": null,
      "outputs": [
        {
          "output_type": "execute_result",
          "data": {
            "text/plain": [
              "Guatemala     343.340\n",
              "Honduras      343.340\n",
              "Costa Rica    342.232\n",
              "Name: G7 population in millons, dtype: float64"
            ]
          },
          "metadata": {},
          "execution_count": 19
        }
      ]
    },
    {
      "cell_type": "code",
      "source": [
        "g7_pop.mean()"
      ],
      "metadata": {
        "colab": {
          "base_uri": "https://localhost:8080/"
        },
        "id": "VA3_o6SLC7b6",
        "outputId": "477ff822-e1f1-4fb7-bf06-886b84419d87"
      },
      "execution_count": null,
      "outputs": [
        {
          "output_type": "execute_result",
          "data": {
            "text/plain": [
              "217.3424"
            ]
          },
          "metadata": {},
          "execution_count": 20
        }
      ]
    },
    {
      "cell_type": "code",
      "source": [
        "np.log(g7_pop)"
      ],
      "metadata": {
        "colab": {
          "base_uri": "https://localhost:8080/"
        },
        "id": "qPioG279DE_5",
        "outputId": "aca7f758-1af4-407e-cc50-cb390ce92472"
      },
      "execution_count": null,
      "outputs": [
        {
          "output_type": "execute_result",
          "data": {
            "text/plain": [
              "El Salvador    3.538057\n",
              "Guatemala      5.838721\n",
              "Honduras       5.838721\n",
              "Costa Rica     5.835489\n",
              "Panama         3.152736\n",
              "Name: G7 population in millons, dtype: float64"
            ]
          },
          "metadata": {},
          "execution_count": 21
        }
      ]
    },
    {
      "cell_type": "code",
      "source": [
        "g7_pop.std()"
      ],
      "metadata": {
        "colab": {
          "base_uri": "https://localhost:8080/"
        },
        "id": "OEzWhh_BDg8h",
        "outputId": "d4acffb9-77e9-437a-f130-a815634d58fb"
      },
      "execution_count": null,
      "outputs": [
        {
          "output_type": "execute_result",
          "data": {
            "text/plain": [
              "172.06813972609805"
            ]
          },
          "metadata": {},
          "execution_count": 22
        }
      ]
    },
    {
      "cell_type": "code",
      "source": [
        "g7_pop[(g7_pop>50) & (g7_pop < 343)]"
      ],
      "metadata": {
        "colab": {
          "base_uri": "https://localhost:8080/"
        },
        "id": "GHK8MautECl3",
        "outputId": "1739c25a-59b5-4e9b-d8aa-417a4227cb68"
      },
      "execution_count": null,
      "outputs": [
        {
          "output_type": "execute_result",
          "data": {
            "text/plain": [
              "Costa Rica    342.232\n",
              "Name: G7 population in millons, dtype: float64"
            ]
          },
          "metadata": {},
          "execution_count": 23
        }
      ]
    },
    {
      "cell_type": "markdown",
      "source": [
        "Modifying series\n"
      ],
      "metadata": {
        "id": "5Gp9eMM0EjH-"
      }
    },
    {
      "cell_type": "code",
      "source": [
        "g7_pop[g7_pop < 70] = 70\n",
        "g7_pop"
      ],
      "metadata": {
        "colab": {
          "base_uri": "https://localhost:8080/"
        },
        "id": "FxDRNavOEpXS",
        "outputId": "13794915-5dc7-4f1b-d265-36a85d99ec5d"
      },
      "execution_count": null,
      "outputs": [
        {
          "output_type": "execute_result",
          "data": {
            "text/plain": [
              "El Salvador     70.000\n",
              "Guatemala      343.340\n",
              "Honduras       343.340\n",
              "Costa Rica     342.232\n",
              "Panama          70.000\n",
              "Name: G7 population in millons, dtype: float64"
            ]
          },
          "metadata": {},
          "execution_count": 25
        }
      ]
    }
  ],
  "metadata": {
    "colab": {
      "collapsed_sections": [],
      "name": "Copia de colab-github-demo.ipynb",
      "provenance": [],
      "include_colab_link": true
    },
    "kernelspec": {
      "display_name": "Python 3",
      "name": "python3"
    }
  },
  "nbformat": 4,
  "nbformat_minor": 0
}